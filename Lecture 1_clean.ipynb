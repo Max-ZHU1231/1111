{
 "cells": [
  {
   "cell_type": "markdown",
   "metadata": {
    "id": "nxocQPd1-7Hg"
   },
   "source": [
    "# Week 1 Python Basics\n",
    "- Python as a calculator\n",
    "- Python as a printer\n",
    "- Variable and variable assignment\n",
    "- Data type\n"
   ]
  },
  {
   "cell_type": "markdown",
   "metadata": {
    "id": "rnzISsOZZjjh"
   },
   "source": [
    "## 1. Python as a calculator\n",
    "\n",
    "| Symbol | Task Performed |\n",
    "|----|---|\n",
    "| +  | Addition |\n",
    "| -  | Subtraction |\n",
    "| *  | multiplication |\n",
    "| /  | division |\n",
    "| // | floor division |\n",
    "| %  | mod |\n",
    "| **  | to the power of |\n"
   ]
  },
  {
   "cell_type": "markdown",
   "metadata": {},
   "source": [
    "What's the difference between the following arithmetic expressions?"
   ]
  },
  {
   "cell_type": "code",
   "execution_count": null,
   "metadata": {
    "id": "-7VqqSdKZjji"
   },
   "outputs": [],
   "source": [
    "3 * 5 - 10 % 2"
   ]
  },
  {
   "cell_type": "code",
   "execution_count": null,
   "metadata": {
    "id": "IP4l2mVTZjjj"
   },
   "outputs": [],
   "source": [
    "3 * 5 - 10 // 2"
   ]
  },
  {
   "cell_type": "code",
   "execution_count": null,
   "metadata": {},
   "outputs": [],
   "source": []
  },
  {
   "cell_type": "code",
   "execution_count": null,
   "metadata": {},
   "outputs": [],
   "source": []
  },
  {
   "cell_type": "markdown",
   "metadata": {
    "id": "sp-fogHcZjjk"
   },
   "source": [
    "<font color='red'><b>Problem Solving 1: </b></font>\n",
    "\n",
    "Calculate and print the circumference of a circle with radius 3 ($2\\pi r$) using $\\pi = 3.14$\n",
    "\n",
    "\n",
    "\n"
   ]
  },
  {
   "cell_type": "code",
   "execution_count": null,
   "metadata": {
    "id": "8-zj1KQxZjjk"
   },
   "outputs": [],
   "source": []
  },
  {
   "cell_type": "code",
   "execution_count": null,
   "metadata": {
    "id": "O58I7--bZjjl"
   },
   "outputs": [],
   "source": []
  },
  {
   "cell_type": "code",
   "execution_count": null,
   "metadata": {
    "id": "F95ZH1zyZjjl"
   },
   "outputs": [],
   "source": []
  },
  {
   "cell_type": "markdown",
   "metadata": {
    "id": "jqIweRNS-7Hj"
   },
   "source": [
    "## 2. Python as a printer: `print()`"
   ]
  },
  {
   "cell_type": "markdown",
   "metadata": {
    "id": "sXsAp1kx-7Hk"
   },
   "source": [
    "#### Print numbers: integer and float"
   ]
  },
  {
   "cell_type": "code",
   "execution_count": null,
   "metadata": {
    "id": "iWY63C_Z-7Hl"
   },
   "outputs": [],
   "source": [
    "print(1024)"
   ]
  },
  {
   "cell_type": "code",
   "execution_count": null,
   "metadata": {},
   "outputs": [],
   "source": [
    "print(1.024)"
   ]
  },
  {
   "cell_type": "code",
   "execution_count": null,
   "metadata": {},
   "outputs": [],
   "source": [
    "print(2e8)           # write a large number with the e notation. 2e10 = 2*10**8"
   ]
  },
  {
   "cell_type": "code",
   "execution_count": null,
   "metadata": {},
   "outputs": [],
   "source": []
  },
  {
   "cell_type": "code",
   "execution_count": null,
   "metadata": {},
   "outputs": [],
   "source": []
  },
  {
   "cell_type": "markdown",
   "metadata": {
    "id": "IVjqqVnHZjjn"
   },
   "source": [
    "#### Print strings:"
   ]
  },
  {
   "cell_type": "code",
   "execution_count": null,
   "metadata": {
    "id": "BVGWeeEKZjjn"
   },
   "outputs": [],
   "source": [
    "# Let's print a sentence: Have a great day!\n",
    "\n"
   ]
  },
  {
   "cell_type": "markdown",
   "metadata": {
    "id": "ajkpiG5FZjjn"
   },
   "source": [
    "<font color='red'><b>Problem Solving 2: </b></font>\n",
    "\n",
    "Can you print your name, age, and the name of one of your favorite songs? Print one by one using `print()`."
   ]
  },
  {
   "cell_type": "code",
   "execution_count": null,
   "metadata": {
    "id": "Pmm_6p6bZjjn"
   },
   "outputs": [],
   "source": []
  },
  {
   "cell_type": "code",
   "execution_count": null,
   "metadata": {
    "id": "EBphteYMZjjn"
   },
   "outputs": [],
   "source": []
  },
  {
   "cell_type": "code",
   "execution_count": null,
   "metadata": {
    "id": "VWEzwcAJZjjn"
   },
   "outputs": [],
   "source": []
  },
  {
   "cell_type": "code",
   "execution_count": null,
   "metadata": {
    "id": "gFyNh3drZjjo"
   },
   "outputs": [],
   "source": []
  },
  {
   "cell_type": "code",
   "execution_count": null,
   "metadata": {
    "id": "T_zj2WrWZjjo"
   },
   "outputs": [],
   "source": [
    "# Let's print another sentence using double-quoted string: What's your name?\n",
    "\n",
    "\n"
   ]
  },
  {
   "cell_type": "code",
   "execution_count": null,
   "metadata": {
    "id": "jqvZO8iZZjjo"
   },
   "outputs": [],
   "source": [
    "# What if we want to create the same string with single quotes?\n",
    "\n",
    "\n"
   ]
  },
  {
   "cell_type": "code",
   "execution_count": null,
   "metadata": {},
   "outputs": [],
   "source": []
  },
  {
   "cell_type": "code",
   "execution_count": null,
   "metadata": {
    "id": "4fvAriOdZjjo"
   },
   "outputs": [],
   "source": [
    "# what if you have a mixture of single and double quotes in the sentence that you want to print?\n"
   ]
  },
  {
   "cell_type": "code",
   "execution_count": null,
   "metadata": {},
   "outputs": [],
   "source": []
  },
  {
   "cell_type": "code",
   "execution_count": null,
   "metadata": {},
   "outputs": [],
   "source": []
  },
  {
   "cell_type": "markdown",
   "metadata": {
    "id": "DjxeefqzZjjo"
   },
   "source": [
    "\n",
    "<font color='red'><b>Problem Solving 3: </b></font>\n",
    "\n",
    "Please try to print the following sentence (you may try using single or double quotes):\n",
    "\n",
    "```\n",
    "The name of the book is \"Python: Beginner's Guide\"\n",
    "```"
   ]
  },
  {
   "cell_type": "code",
   "execution_count": null,
   "metadata": {
    "id": "zjIaX2lMZjjo"
   },
   "outputs": [],
   "source": []
  },
  {
   "cell_type": "code",
   "execution_count": null,
   "metadata": {},
   "outputs": [],
   "source": []
  },
  {
   "cell_type": "code",
   "execution_count": null,
   "metadata": {},
   "outputs": [],
   "source": []
  },
  {
   "cell_type": "code",
   "execution_count": null,
   "metadata": {},
   "outputs": [],
   "source": []
  },
  {
   "cell_type": "code",
   "execution_count": null,
   "metadata": {},
   "outputs": [],
   "source": []
  },
  {
   "cell_type": "code",
   "execution_count": null,
   "metadata": {
    "id": "kwae2UadZjjp"
   },
   "outputs": [],
   "source": [
    "print(\"isom2020 coding for business\")"
   ]
  },
  {
   "cell_type": "code",
   "execution_count": null,
   "metadata": {
    "id": "FBA2N5fiZjjp"
   },
   "outputs": [],
   "source": [
    "print(\"isom2020\\tcoding for business\")"
   ]
  },
  {
   "cell_type": "code",
   "execution_count": null,
   "metadata": {
    "id": "35ZatW2R-7Hp"
   },
   "outputs": [],
   "source": [
    "print(\"ISOM2020\\ncoding for business\")"
   ]
  },
  {
   "cell_type": "code",
   "execution_count": null,
   "metadata": {
    "id": "NJPT4Zd_-7Hq"
   },
   "outputs": [],
   "source": []
  },
  {
   "cell_type": "markdown",
   "metadata": {
    "id": "CyGFa3quZjjp"
   },
   "source": [
    "## 3. Print multiple lines of text\n",
    "\n",
    "String literals inside triple quotes, `\"\"\"` or `'''`, can span multiple lines of text. \n",
    "\n",
    "Consider this piece of lyrics \"Twinkle, twinkle, little star, How I wonder what you are!\" \n",
    "\n",
    "Try to print it according to the following format. \n",
    "\n",
    "```\n",
    "Twinkle, \n",
    "twinkle, \n",
    "little star,\n",
    "        How I wonder what you are!\n",
    "```    "
   ]
  },
  {
   "cell_type": "code",
   "execution_count": null,
   "metadata": {},
   "outputs": [],
   "source": []
  },
  {
   "cell_type": "code",
   "execution_count": null,
   "metadata": {
    "id": "pAy0zSRtZjjp"
   },
   "outputs": [],
   "source": []
  },
  {
   "cell_type": "markdown",
   "metadata": {
    "id": "_5RCiLhA-7Hr"
   },
   "source": [
    "\n",
    "\n",
    "<font color='red'><b>Problem Solving 4: </b></font> How can we print a Pikachu with a single `print()` call?\n",
    "\n",
    "```\n",
    "    へ　　　　　／|\n",
    "　  /＼7　　  ∠＿/\n",
    "　 /　│　　 ／　／\n",
    "　│　Z ＿,＜　／　　 /`ヽ\n",
    "　│　　　　　ヽ　　 /　　〉\n",
    "　 Y　　　　　`　 /　　/\n",
    "　ｲ●　､　●　　⊂⊃〈　　/\n",
    "　()　 へ　　　　|　＼〈\n",
    "　　>ｰ ､_　 ィ　 │ ／／\n",
    "　 / へ　　 /　ﾉ＜| ＼＼\n",
    "　 ヽ_ﾉ　　(_／　 │／／\n",
    "　　7　　　　　　　|／\n",
    "　　＞―r￣￣`ｰ―＿\n",
    "```"
   ]
  },
  {
   "cell_type": "code",
   "execution_count": null,
   "metadata": {
    "id": "kMwnpRqmZjjq"
   },
   "outputs": [],
   "source": []
  },
  {
   "cell_type": "markdown",
   "metadata": {
    "id": "PLBhVcYJ-7Hv"
   },
   "source": [
    "## 4. Print multiple data elements at a time:\n",
    "\n",
    "- Use `,` to separate different elements, a space will be added in between.\n",
    "- We can use `+` to connect two strings (only works for string!), no space will be added in between."
   ]
  },
  {
   "cell_type": "code",
   "execution_count": null,
   "metadata": {
    "id": "qdNdkRc9Zjjq"
   },
   "outputs": [],
   "source": [
    "print(\"ISOM2020\")"
   ]
  },
  {
   "cell_type": "code",
   "execution_count": null,
   "metadata": {
    "id": "WGwlv5VYZjjq"
   },
   "outputs": [],
   "source": [
    "print(\"ISOM\", \"2020\")"
   ]
  },
  {
   "cell_type": "code",
   "execution_count": null,
   "metadata": {
    "id": "qW5uVFZVZjjr"
   },
   "outputs": [],
   "source": [
    "print(\"ISOM\" + \"2020\")"
   ]
  },
  {
   "cell_type": "code",
   "execution_count": null,
   "metadata": {
    "id": "lZ5SU67CZjjr"
   },
   "outputs": [],
   "source": [
    "print(\"welcome to\", \"ISOM\" + \"2020\")"
   ]
  },
  {
   "cell_type": "code",
   "execution_count": null,
   "metadata": {
    "id": "epKIePeMZjjr"
   },
   "outputs": [],
   "source": [
    "print(\"ISOM\", \"2020\", 1, 99)"
   ]
  },
  {
   "cell_type": "code",
   "execution_count": null,
   "metadata": {
    "id": "Zs-tSqsFZjjs"
   },
   "outputs": [],
   "source": [
    "print(\"ISOM\" + \"2020\", 1, 99)"
   ]
  },
  {
   "cell_type": "code",
   "execution_count": null,
   "metadata": {
    "id": "0E9O3yCsZjjs"
   },
   "outputs": [],
   "source": [
    "print(\"ISOM\" + \"2020\", 1 + 99)"
   ]
  },
  {
   "cell_type": "markdown",
   "metadata": {
    "id": "QOFBDOqVZjjs"
   },
   "source": [
    "<font color='red'><b>Problem Solving 5: </b></font> What if you also want to print the two commas as below (with as little change as possible)?\n",
    "\n",
    "`ISOM2020, 1, 99`"
   ]
  },
  {
   "cell_type": "code",
   "execution_count": null,
   "metadata": {
    "id": "2M95ZglpZjjs"
   },
   "outputs": [],
   "source": []
  },
  {
   "cell_type": "code",
   "execution_count": null,
   "metadata": {},
   "outputs": [],
   "source": []
  },
  {
   "cell_type": "markdown",
   "metadata": {
    "id": "vwoiZef9-7Hx"
   },
   "source": [
    "## 5. Variables and data type:\n",
    "- Variables must be defined before use.\n",
    "- Variables should be used directly without the quotation mark. Variable is not a string. "
   ]
  },
  {
   "cell_type": "code",
   "execution_count": null,
   "metadata": {
    "id": "E3xcgB8_Zjjs"
   },
   "outputs": [],
   "source": [
    "print(a)"
   ]
  },
  {
   "cell_type": "code",
   "execution_count": null,
   "metadata": {
    "id": "FV7U2XOaZjjt"
   },
   "outputs": [],
   "source": [
    "a = 5.6\n",
    "print(a)"
   ]
  },
  {
   "cell_type": "code",
   "execution_count": null,
   "metadata": {
    "id": "9_1dKCq-Zjjt"
   },
   "outputs": [],
   "source": [
    "print(\"a\")"
   ]
  },
  {
   "cell_type": "code",
   "execution_count": null,
   "metadata": {
    "id": "LLXLzITMZjjt"
   },
   "outputs": [],
   "source": [
    "# How to check the data type of the variable\n"
   ]
  },
  {
   "cell_type": "markdown",
   "metadata": {
    "id": "ZGi32TQ4ec-B"
   },
   "source": [
    "---\n",
    "\n",
    "<font color='green'><b>+++ Polling Time 1 +++</b>"
   ]
  },
  {
   "cell_type": "markdown",
   "metadata": {
    "id": "pa7spWVC-7H3"
   },
   "source": [
    "\n",
    "---\n",
    "\n",
    "<font color='green'><b>+++ Group Exercise +++</b>"
   ]
  },
  {
   "cell_type": "markdown",
   "metadata": {
    "id": "d0Pxq11L-7H3"
   },
   "source": [
    "\n",
    "\n",
    "\n",
    "<font color='red'><b>Exercise 1: </b></font> Can you define two variables, one for the length of a rectangle (`3.4`), and the other for the width (`2.85`). Then calculate and print the area of the rectangle?\n",
    "\n"
   ]
  },
  {
   "cell_type": "code",
   "execution_count": null,
   "metadata": {
    "id": "_Kp7riokZjjt"
   },
   "outputs": [],
   "source": []
  },
  {
   "cell_type": "code",
   "execution_count": null,
   "metadata": {
    "id": "4CkWLVhCZjju"
   },
   "outputs": [],
   "source": []
  },
  {
   "cell_type": "markdown",
   "metadata": {
    "id": "t85S5wLMZjju"
   },
   "source": [
    "<font color='red'><b>Exercise 2: </b></font> This set of exercises is about calculating perimeter and surface area of a circle.\n",
    "\n",
    "1) Earlier, we calculate and print the perimeter of a circle with radius 3. Now, what if we also want to know the surface area of the circle ($\\pi r^2$) ?"
   ]
  },
  {
   "cell_type": "code",
   "execution_count": null,
   "metadata": {
    "id": "PrA20QygZjju"
   },
   "outputs": [],
   "source": []
  },
  {
   "cell_type": "markdown",
   "metadata": {
    "id": "_N3aRJxeZjju"
   },
   "source": [
    "2) What if we want to perform the above calculation for another circle with radius 8.5? [Tip: Try to use a variable for the radius.]"
   ]
  },
  {
   "cell_type": "code",
   "execution_count": null,
   "metadata": {
    "id": "AkwtSsnkZjju"
   },
   "outputs": [],
   "source": []
  },
  {
   "cell_type": "markdown",
   "metadata": {
    "id": "rc4OqHBuZjju"
   },
   "source": [
    "3) What if we want to have more decimal places included for pi in order to increase the precision of our calculation? [Tip: You may use a more precise `pi` value provided in the math library.]"
   ]
  },
  {
   "cell_type": "code",
   "execution_count": null,
   "metadata": {
    "id": "AlmBZDY4Zjju"
   },
   "outputs": [],
   "source": [
    "import math\n",
    "print(math.pi)\n",
    "\n",
    "\n",
    "\n"
   ]
  },
  {
   "cell_type": "markdown",
   "metadata": {
    "id": "SrfFpyOfZjjv"
   },
   "source": [
    "4) If you still have time left, try printing the results nicely as following:\n",
    "\n",
    "```\n",
    "The radius of the sphere is: 8.5\n",
    "The perimeter of the circle is: 53.40707511102649\n",
    "The surface area of the circle is: 226.98006922186255\n",
    "```"
   ]
  },
  {
   "cell_type": "code",
   "execution_count": null,
   "metadata": {
    "id": "tYWj9zFRZjjv"
   },
   "outputs": [],
   "source": []
  }
 ],
 "metadata": {
  "colab": {
   "provenance": []
  },
  "kernelspec": {
   "display_name": "Python 3 (ipykernel)",
   "language": "python",
   "name": "python3"
  },
  "language_info": {
   "codemirror_mode": {
    "name": "ipython",
    "version": 3
   },
   "file_extension": ".py",
   "mimetype": "text/x-python",
   "name": "python",
   "nbconvert_exporter": "python",
   "pygments_lexer": "ipython3",
   "version": "3.12.4"
  }
 },
 "nbformat": 4,
 "nbformat_minor": 4
}
